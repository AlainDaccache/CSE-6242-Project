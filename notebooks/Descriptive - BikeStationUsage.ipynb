{
 "cells": [
  {
   "cell_type": "markdown",
   "metadata": {},
   "source": [
    "# Toronto Bike Sharing: Descriptive Analysis"
   ]
  },
  {
   "cell_type": "markdown",
   "metadata": {},
   "source": [
    "## Toronto Bike Sharing At Scale"
   ]
  },
  {
   "cell_type": "markdown",
   "metadata": {},
   "source": [
    "Below we can see the aggreagated data for all collected toronto bike sharing station trips represented as a force graph. Within the graph each station is represented by a circle with its size proportional to the frequency with which it appears in the trips data. Each edge between the nodes tells us that there has been a logged trip between the two stations. As we can see, the lesser utilized stations are forced to the outside. The graph is interactive allowing you to drag, pin and explore the stations."
   ]
  },
  {
   "cell_type": "code",
   "execution_count": 4,
   "metadata": {},
   "outputs": [
    {
     "data": {
      "text/html": [
       "\n",
       "        <iframe\n",
       "            width=\"100%\"\n",
       "            height=\"600px\"\n",
       "            src=\"https://torontobikesharingnetwork.onrender.com/?background=white\"\n",
       "            frameborder=\"0\"\n",
       "            allowfullscreen\n",
       "            \n",
       "        ></iframe>\n",
       "        "
      ],
      "text/plain": [
       "<IPython.lib.display.IFrame at 0x105f90760>"
      ]
     },
     "execution_count": 4,
     "metadata": {},
     "output_type": "execute_result"
    }
   ],
   "source": [
    "from IPython.display import IFrame\n",
    "\n",
    "IFrame(src=\"https://torontobikesharingnetwork.onrender.com/\", width='100%', height='600px', background='white')"
   ]
  },
  {
   "cell_type": "markdown",
   "metadata": {},
   "source": [
    "Having an interactive chart allows us to visually recognize the gap in utilization across the bike sharing station in Toronto. By hovering on or pinning the smaller nodes around the outside of the graph we can identify some of these less frequently used stations. \n",
    "\n",
    "![Alt Text](../photos/ForceGraphSnip.png)\n",
    "\n",
    "The underutilized stations will come in handy when it comes time to recommend a course of action whether that is relocation of bike sharing stations to aid in traffic congestion and save on capital costs or elimination of the stations to save on operational and maintenance costs. "
   ]
  },
  {
   "cell_type": "markdown",
   "metadata": {},
   "source": []
  }
 ],
 "metadata": {
  "kernelspec": {
   "display_name": "bike-env3",
   "language": "python",
   "name": "python3"
  },
  "language_info": {
   "codemirror_mode": {
    "name": "ipython",
    "version": 3
   },
   "file_extension": ".py",
   "mimetype": "text/x-python",
   "name": "python",
   "nbconvert_exporter": "python",
   "pygments_lexer": "ipython3",
   "version": "3.9.20"
  }
 },
 "nbformat": 4,
 "nbformat_minor": 2
}
